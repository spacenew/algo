{
 "cells": [
  {
   "cell_type": "code",
   "execution_count": null,
   "metadata": {},
   "outputs": [],
   "source": [
    "class LinearRegression:\n",
    "    def fit(self, X_train, y_train):\n",
    "        \n",
    "        # В обучающую выборку добавляем единичный столбец для упрощения расчета\n",
    "        X = np.concatenate((np.ones((X_train.shape[0], 1)), X_train), axis=1)\n",
    "        y = y_train\n",
    "        \n",
    "        # 1. Транспон.матрица умнож на себя\n",
    "        # 2. Вычисляется обратная матрица\n",
    "        # 3. Обратная умножается на транспонированную матрицу признаков\n",
    "        # 4. Умнож. результат на вектор целевого значения\n",
    "        w = np.linalg.inv(X.T @ X) @ X.T @ y\n",
    "        \n",
    "        self.w = w[1:]\n",
    "        self.w0 = w[0]\n",
    "    \n",
    "    # Вычисялем MSE\n",
    "    def predict(self, X_test):\n",
    "        return X_test.dot(self.w) + self.w0"
   ]
  }
 ],
 "metadata": {
  "kernelspec": {
   "display_name": "Python 3",
   "language": "python",
   "name": "python3"
  },
  "language_info": {
   "codemirror_mode": {
    "name": "ipython",
    "version": 3
   },
   "file_extension": ".py",
   "mimetype": "text/x-python",
   "name": "python",
   "nbconvert_exporter": "python",
   "pygments_lexer": "ipython3",
   "version": "3.8.5"
  },
  "toc": {
   "base_numbering": 1,
   "nav_menu": {},
   "number_sections": true,
   "sideBar": true,
   "skip_h1_title": false,
   "title_cell": "Table of Contents",
   "title_sidebar": "Contents",
   "toc_cell": false,
   "toc_position": {},
   "toc_section_display": true,
   "toc_window_display": false
  }
 },
 "nbformat": 4,
 "nbformat_minor": 4
}
