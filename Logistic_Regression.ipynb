{
 "cells": [
  {
   "cell_type": "code",
   "execution_count": 1,
   "metadata": {},
   "outputs": [],
   "source": [
    "import numpy as np\n",
    "from sklearn.datasets import load_digits\n",
    "from sklearn.model_selection import train_test_split"
   ]
  },
  {
   "cell_type": "code",
   "execution_count": 2,
   "metadata": {},
   "outputs": [],
   "source": [
    "# Логистическая фунция потерь\n",
    "def log_loss(y_true, y_pred):\n",
    "    return -np.sum(y_true * np.log(y_pred) + (1 - y_true) * np.log(1 - y_pred), axis=0) / len(y_true)"
   ]
  },
  {
   "cell_type": "code",
   "execution_count": 3,
   "metadata": {},
   "outputs": [],
   "source": [
    "# Сигмоидное преобразование\n",
    "def sigmoid(x):\n",
    "    return 1 / (1 + np.exp(-x))"
   ]
  },
  {
   "cell_type": "code",
   "execution_count": 4,
   "metadata": {},
   "outputs": [],
   "source": [
    "data = load_digits()"
   ]
  },
  {
   "cell_type": "code",
   "execution_count": 40,
   "metadata": {},
   "outputs": [
    {
     "data": {
      "text/plain": [
       "array([0, 1, 2, ..., 8, 9, 8])"
      ]
     },
     "execution_count": 40,
     "metadata": {},
     "output_type": "execute_result"
    }
   ],
   "source": [
    "data['target']"
   ]
  },
  {
   "cell_type": "code",
   "execution_count": 29,
   "metadata": {},
   "outputs": [],
   "source": [
    "X = data['data']\n",
    "y = (data['target'] >= 5).astype(np.int32)"
   ]
  },
  {
   "cell_type": "code",
   "execution_count": 30,
   "metadata": {},
   "outputs": [],
   "source": [
    "X_train, X_test, y_train, y_test = train_test_split(X,\n",
    "                                                    y,\n",
    "                                                    test_size=0.25,\n",
    "                                                    shuffle=True)"
   ]
  },
  {
   "cell_type": "code",
   "execution_count": 31,
   "metadata": {},
   "outputs": [],
   "source": [
    "m, n = X_train.shape"
   ]
  },
  {
   "cell_type": "code",
   "execution_count": 32,
   "metadata": {},
   "outputs": [
    {
     "name": "stdout",
     "output_type": "stream",
     "text": [
      "1347 64\n"
     ]
    }
   ],
   "source": [
    "print(m, n)"
   ]
  },
  {
   "cell_type": "code",
   "execution_count": 41,
   "metadata": {},
   "outputs": [
    {
     "data": {
      "text/plain": [
       "(1797, 64)"
      ]
     },
     "execution_count": 41,
     "metadata": {},
     "output_type": "execute_result"
    }
   ],
   "source": [
    "X.shape"
   ]
  },
  {
   "cell_type": "code",
   "execution_count": 33,
   "metadata": {},
   "outputs": [],
   "source": [
    "#a = np.random.randn(64, 1) * 0.01\n",
    "#a"
   ]
  },
  {
   "cell_type": "code",
   "execution_count": 34,
   "metadata": {},
   "outputs": [],
   "source": [
    "class Logistic_Regression:\n",
    "    \n",
    "    # Инициализируем случайными значениями параметры w, b\n",
    "    def __init__(self):\n",
    "        \n",
    "        self.w = np.random.randn(n, 1) * 0.01\n",
    "        self.b = np.random.randn() * 0.01\n",
    "        \n",
    "    def fit(self, X, y, learning_rate = 0.01, epochs=50):\n",
    "        \n",
    "        # epochs - количество проходов по датасету\n",
    "        for epoch in range(epochs):\n",
    "            \n",
    "            # Вычисляем предсказания лог.рег для объектов\n",
    "            z = X.reshape(m, n).dot(self.w) + self.b\n",
    "            a = sigmoid(z)  \n",
    "            \n",
    "            # Расчет градиента\n",
    "            dw = np.sum(X.reshape(m, n) * (a.reshape(m, 1) - y.reshape(m, 1)), axis=0) / len(X)\n",
    "            db = np.sum((a.reshape(m, 1) - y.reshape(m, 1)), axis=0) / len(X)\n",
    "            \n",
    "            # Делаем шаг градиента\n",
    "            self.w = self.w - learning_rate * dw.reshape(n, 1)\n",
    "            self.b = self.b - learning_rate * db\n",
    "\n",
    "    def predict(self, X):        \n",
    "        return  np.array([sigmoid(x.reshape(1, n).dot(self.w) + self.b)[0][0] for x in X])"
   ]
  },
  {
   "cell_type": "code",
   "execution_count": 42,
   "metadata": {},
   "outputs": [
    {
     "name": "stdout",
     "output_type": "stream",
     "text": [
      "Точность на тестовой выборке: 85.11%\n"
     ]
    }
   ],
   "source": [
    "logreg = Logistic_Regression()\n",
    "logreg.fit(X_train, y_train)\n",
    "\n",
    "test_prediction = np.array(logreg.predict(X_test))\n",
    "test_accuracy = np.sum((test_prediction > 0.5) == y_test) / len(test_prediction)\n",
    "print(f'Точность на тестовой выборке: {round(test_accuracy * 100, 2)}%')"
   ]
  }
 ],
 "metadata": {
  "kernelspec": {
   "display_name": "Python 3",
   "language": "python",
   "name": "python3"
  },
  "language_info": {
   "codemirror_mode": {
    "name": "ipython",
    "version": 3
   },
   "file_extension": ".py",
   "mimetype": "text/x-python",
   "name": "python",
   "nbconvert_exporter": "python",
   "pygments_lexer": "ipython3",
   "version": "3.8.5"
  },
  "toc": {
   "base_numbering": 1,
   "nav_menu": {},
   "number_sections": true,
   "sideBar": true,
   "skip_h1_title": false,
   "title_cell": "Table of Contents",
   "title_sidebar": "Contents",
   "toc_cell": false,
   "toc_position": {},
   "toc_section_display": true,
   "toc_window_display": false
  }
 },
 "nbformat": 4,
 "nbformat_minor": 4
}
